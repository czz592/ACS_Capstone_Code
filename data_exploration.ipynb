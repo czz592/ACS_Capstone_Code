{
 "cells": [
  {
   "cell_type": "markdown",
   "id": "9b5a719f",
   "metadata": {},
   "source": [
    "# Data Exploration\n",
    "\n",
    "This notebook will primarily be to explore the dataset, specifically files under the ``MERGED_CSV`` folder.\n"
   ]
  },
  {
   "cell_type": "code",
   "execution_count": null,
   "id": "84cfd92f",
   "metadata": {},
   "outputs": [],
   "source": [
    "import matplotlib.pyplot as plt\n",
    "import seaborn as sns\n",
    "import pandas as pd\n",
    "import numpy as np\n",
    "\n",
    "import os\n"
   ]
  },
  {
   "cell_type": "code",
   "execution_count": null,
   "id": "8281d1d1",
   "metadata": {},
   "outputs": [],
   "source": [
    "def inspect_file(file_path):\n",
    "    df = pd.read_csv(file_path, low_memory=False)\n",
    "    print(f\"\\n📄 {file_path}\")\n",
    "    print(f\"Shape: {df.shape}\")\n",
    "    print(f\"Columns: {df.columns.tolist()}\")\n",
    "    print(f\"Nulls:\\n{df.isnull().sum().sum()}\")\n",
    "    print(f\"Data Types:\\n{df.dtypes}\")\n",
    "    print(f\"First 3 rows:\\n{df.head(3)}\")\n",
    "    \n",
    "    print(df.info)\n",
    "    return df\n"
   ]
  },
  {
   "cell_type": "code",
   "execution_count": null,
   "id": "eae30174",
   "metadata": {},
   "outputs": [],
   "source": [
    "# path = \"./dataset/ciciot2023/MERGED_CSV/Merged01.csv\"\n",
    "# df = pd.read_csv(path)\n",
    "# df.info\n"
   ]
  },
  {
   "cell_type": "code",
   "execution_count": null,
   "id": "1d2d19a3",
   "metadata": {},
   "outputs": [],
   "source": [
    "normal_path = \"./dataset/edge-iiotset/normal/\"\n",
    "attack_path = \"./dataset/edge-iiotset/attack/\"\n",
    "# output_path = \"./dataset/edge-iiotset/eda_output/\"\n",
    "\n"
   ]
  },
  {
   "cell_type": "code",
   "execution_count": null,
   "id": "790f7b66",
   "metadata": {},
   "outputs": [],
   "source": [
    "for file in os.listdir(normal_path):\n",
    "    if file.endswith(\".csv\"):\n",
    "        file_path = os.path.join(normal_path, file)\n",
    "        inspect_file(file_path)\n",
    "        \n",
    "for file in os.listdir(attack_path):\n",
    "    if file.endswith(\".csv\"):\n",
    "        file_path = os.path.join(attack_path, file)\n",
    "        inspect_file(file_path)\n"
   ]
  },
  {
   "cell_type": "markdown",
   "id": "136a9466",
   "metadata": {},
   "source": [
    "## Comment\n",
    "\n",
    "- None of the attacks seem to have any null values, but many values just have 0\n",
    "- 63 columns, few may or may not be useful such as time\n",
    "- Inproportionate attack data\n",
    "  - Overwhelming amount of DDoS attack data \n",
    "    - 229022 in HTTP flood\n",
    "    - 2914354 in ICMP flood\n",
    "    - 2020120 in TCP Syn flood\n",
    "    - 3201626 in UDP flood\n",
    "  - MITM 1229\n",
    "  - Backdoor 24862\n",
    "  - OS fingerprinting 1001\n",
    "  - Password 1053385\n",
    "  - Port scanning 22564\n",
    "  - Ransomware 10925\n",
    "  - SQL injection 51203\n",
    "  - Uploading 37634\n",
    "  - Vuln scan 145869\n",
    "  - XSS 15915\n"
   ]
  }
 ],
 "metadata": {
  "kernelspec": {
   "display_name": "venv",
   "language": "python",
   "name": "python3"
  },
  "language_info": {
   "codemirror_mode": {
    "name": "ipython",
    "version": 3
   },
   "file_extension": ".py",
   "mimetype": "text/x-python",
   "name": "python",
   "nbconvert_exporter": "python",
   "pygments_lexer": "ipython3",
   "version": "3.9.13"
  }
 },
 "nbformat": 4,
 "nbformat_minor": 5
}
