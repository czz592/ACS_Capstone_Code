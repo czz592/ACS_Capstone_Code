{
 "cells": [
  {
   "cell_type": "markdown",
   "id": "3d2b79df",
   "metadata": {},
   "source": [
    "# Plotting\n",
    "\n",
    "Ran out of time to implement proper plotting in main runner script.\n"
   ]
  },
  {
   "cell_type": "code",
   "execution_count": 108,
   "id": "d52422ba",
   "metadata": {},
   "outputs": [],
   "source": [
    "import pandas as pd\n",
    "import matplotlib.pyplot as plt\n",
    "import seaborn as sns\n",
    "sns.set_palette(\"colorblind\")\n",
    "sns.set_style(\"whitegrid\")\n",
    "\n",
    "federated_path = \"../output/federated/\"\n",
    "centralised_path = \"../output/centralised/\"\n",
    "plots_path = \"../output/plots/\"\n",
    "metrics = [\"accuracy\", \"precision\", \"recall\", \"f1\"]\n",
    "figsize = (10, 6)\n"
   ]
  },
  {
   "cell_type": "code",
   "execution_count": 109,
   "id": "d1859909",
   "metadata": {},
   "outputs": [],
   "source": [
    "def add_value_labels(ax):\n",
    "    for container in ax.containers:\n",
    "        ax.bar_label(container, fmt='%.3f', padding=3)\n"
   ]
  },
  {
   "cell_type": "markdown",
   "id": "c21ec8c1",
   "metadata": {},
   "source": [
    "## Centralised"
   ]
  },
  {
   "cell_type": "code",
   "execution_count": 110,
   "id": "518afbbf",
   "metadata": {},
   "outputs": [],
   "source": [
    "baseline_dnn_df = pd.read_csv(centralised_path + \"baseline_dnn.csv\").drop(columns=[\"Unnamed: 0\"])\n",
    "print(baseline_dnn_df)\n",
    "baseline_cnn_df = pd.read_csv(\n",
    "    centralised_path + \"baseline_cnn.csv\").drop(columns=[\"Unnamed: 0\"])\n",
    "print(baseline_cnn_df)\n",
    "\n",
    "# join baseline dfs\n",
    "baseline_df = pd.concat([baseline_dnn_df, baseline_cnn_df], axis=0)\n",
    "print(baseline_df)\n",
    "# add first col for model type\n",
    "baseline_df.insert(0, \"Model\", [\"DNN\", \"CNN\"])\n",
    "baseline_df.set_index(\"Model\", inplace=True)\n",
    "print(baseline_df)\n",
    "\n",
    "# convert to long format\n",
    "baseline_df_melt = pd.melt(baseline_df, ignore_index=False).reset_index()\n",
    "baseline_df_melt.columns = [\"Model\", \"Metric\", \"Score\"]\n",
    "print(baseline_df_melt)\n"
   ]
  },
  {
   "cell_type": "code",
   "execution_count": 111,
   "id": "421732fc",
   "metadata": {},
   "outputs": [],
   "source": [
    "# grouped bar chart for metrics\n",
    "plt.figure(figsize=figsize)\n",
    "# dnn metric group\n",
    "ax = sns.barplot(x=\"Model\", y=\"Score\", hue=\"Metric\", data=baseline_df_melt)\n",
    "add_value_labels(ax)\n",
    "plt.title(\"Centralised - Baseline DNN vs CNN Metrics\")\n",
    "# plt.legend(title=\"Metrics\", bbox_to_anchor=(1.05, 1.0), loc='upper left')\n",
    "plt.tight_layout()\n",
    "plt.savefig(plots_path + \"baseline_metrics.png\")\n"
   ]
  },
  {
   "cell_type": "markdown",
   "id": "f1272c05",
   "metadata": {},
   "source": [
    "### DP\n"
   ]
  },
  {
   "cell_type": "code",
   "execution_count": 112,
   "id": "fb0d6ebe",
   "metadata": {},
   "outputs": [],
   "source": [
    "# read noise_cnn_metrics.csv and noise_dnn_metrics.csv\n",
    "noise_cnn_df = pd.read_csv(centralised_path + \"noise_cnn_metrics.csv\").drop(columns=[\"Unnamed: 0\"])\n",
    "noise_dnn_df = pd.read_csv(centralised_path + \"noise_dnn_metrics.csv\").drop(columns=[\"Unnamed: 0\"])\n",
    "\n",
    "# set index\n",
    "noise_cnn_df.set_index(\"noise_multiplier\", inplace=True)\n",
    "noise_dnn_df.set_index(\"noise_multiplier\", inplace=True)\n",
    "\n",
    "# inspect\n",
    "print(noise_cnn_df)\n",
    "print(noise_dnn_df)\n"
   ]
  },
  {
   "cell_type": "code",
   "execution_count": 113,
   "id": "ee823b44",
   "metadata": {},
   "outputs": [],
   "source": [
    "# melt dnn\n",
    "noise_dnn_df_melt = pd.melt(noise_dnn_df, ignore_index=False).reset_index()\n",
    "noise_dnn_df_melt.columns = [\"noise_multiplier\", \"Metric\", \"Score\"]\n",
    "print(noise_dnn_df_melt)\n",
    "\n",
    "# plot dnn over noise_multiplier\n",
    "plt.figure(figsize=figsize)\n",
    "ax = sns.barplot(x=\"noise_multiplier\", y=\"Score\", hue=\"Metric\", data=noise_dnn_df_melt)\n",
    "add_value_labels(ax)\n",
    "plt.xlabel(\"Noise Multiplier\")\n",
    "plt.title(\"Centralised - DNN Metrics vs Noise Multiplier\")\n",
    "plt.tight_layout()\n",
    "plt.savefig(plots_path + \"noise_dnn.png\")\n"
   ]
  },
  {
   "cell_type": "code",
   "execution_count": 114,
   "id": "1745bff1",
   "metadata": {},
   "outputs": [],
   "source": [
    "# melt cnn\n",
    "noise_cnn_df_melt = pd.melt(noise_cnn_df, ignore_index=False).reset_index()\n",
    "noise_cnn_df_melt.columns = [\"noise_multiplier\", \"Metric\", \"Score\"]\n",
    "print(noise_cnn_df_melt)\n",
    "\n",
    "# plot cnn over noise_multiplier\n",
    "plt.figure(figsize=figsize)\n",
    "ax = sns.barplot(x=\"noise_multiplier\", y=\"Score\", hue=\"Metric\", data=noise_cnn_df_melt)\n",
    "add_value_labels(ax)\n",
    "plt.xlabel(\"Noise Multiplier\")\n",
    "plt.title(\"Centralised - CNN Metrics vs Noise Multiplier\")\n",
    "plt.tight_layout()\n",
    "plt.savefig(plots_path + \"noise_cnn.png\")\n"
   ]
  },
  {
   "cell_type": "code",
   "execution_count": 115,
   "id": "9f97b473",
   "metadata": {},
   "outputs": [],
   "source": [
    "# get last row of noise_dnn and noise_cnn\n",
    "print(noise_dnn_df.iloc[-1])\n",
    "print(noise_cnn_df.iloc[-1])\n",
    "\n",
    "noise_df = pd.DataFrame({\"DNN\": noise_dnn_df.iloc[-1], \"CNN\": noise_cnn_df.iloc[-1]}).T\n",
    "print(noise_df)\n",
    "\n",
    "# convert to long format\n",
    "noise_df_melt = pd.melt(noise_df, ignore_index=False).reset_index()\n",
    "noise_df_melt.columns = [\"Model\", \"Metric\", \"Score\"]\n",
    "print(noise_df_melt)\n",
    "\n",
    "# plot\n",
    "plt.figure(figsize=figsize)\n",
    "ax = sns.barplot(x=\"Model\", y=\"Score\", hue=\"Metric\", data=noise_df_melt)\n",
    "add_value_labels(ax)\n",
    "plt.title(\"Centralised - DP DNN vs CNN Metrics \")\n",
    "plt.tight_layout()\n",
    "plt.savefig(plots_path + \"dp_metrics.png\")\n"
   ]
  },
  {
   "cell_type": "code",
   "execution_count": 117,
   "id": "2e05196c",
   "metadata": {},
   "outputs": [],
   "source": [
    "# centralised dp vs no dp\n",
    "centralised_dp_no_dp = pd.DataFrame(\n",
    "    {\"No DP\": baseline_df.iloc[-1],\n",
    "     \"DP\": noise_df.iloc[-1]}).T\n",
    "print(centralised_dp_no_dp)\n",
    "\n",
    "# melt\n",
    "centralised_dp_no_dp_melt = pd.melt(centralised_dp_no_dp, ignore_index=False).reset_index()\n",
    "centralised_dp_no_dp_melt.columns = [\"DP\", \"Metric\", \"Score\"]\n",
    "print(centralised_dp_no_dp_melt)\n"
   ]
  },
  {
   "cell_type": "code",
   "execution_count": 118,
   "id": "4fdce3dd",
   "metadata": {},
   "outputs": [],
   "source": [
    "plt.figure(figsize=figsize)\n",
    "ax= sns.barplot(x=\"DP\", y=\"Score\", hue=\"Metric\", data=centralised_dp_no_dp_melt)\n",
    "add_value_labels(ax)\n",
    "plt.title(\"Centralised -  No DP vs DP Metrics\")\n",
    "plt.tight_layout()\n",
    "plt.savefig(plots_path + \"centralised_dp_vs_no_dp.png\")\n"
   ]
  },
  {
   "cell_type": "markdown",
   "id": "fdd1e308",
   "metadata": {},
   "source": [
    "## Federated"
   ]
  },
  {
   "cell_type": "code",
   "execution_count": 119,
   "id": "16ebb1db",
   "metadata": {},
   "outputs": [],
   "source": [
    "no_dp_federated_df = pd.read_csv(\n",
    "    federated_path + \"5_clients.csv\").drop(columns=[\"Unnamed: 0\"])\n",
    "print(no_dp_federated_df)\n",
    "\n",
    "# insert communication round as first column\n",
    "no_dp_federated_df.insert(0, \"Round\", value=range(0, len(no_dp_federated_df)))\n",
    "no_dp_federated_df.set_index(\"Round\", inplace=True)\n",
    "print(no_dp_federated_df)\n",
    "\n",
    "# melt \n",
    "no_dp_federated_df_melt = pd.melt(no_dp_federated_df, ignore_index=False).reset_index()\n",
    "no_dp_federated_df_melt.columns = [\"Round\", \"Metric\", \"Score\"]\n",
    "print(no_dp_federated_df_melt)\n"
   ]
  },
  {
   "cell_type": "code",
   "execution_count": 129,
   "id": "b719d18a",
   "metadata": {},
   "outputs": [],
   "source": [
    "plt.figure(figsize=figsize)\n",
    "ax = sns.barplot(x=\"Round\", y=\"Score\", hue=\"Metric\",\n",
    "                 data=no_dp_federated_df_melt)\n",
    "add_value_labels(ax)\n",
    "plt.xlabel(\"Communication Round\")\n",
    "plt.title(\"Federated -  No DP Improvement Over Communication Rounds\")\n",
    "plt.tight_layout()\n",
    "plt.savefig(plots_path + \"fl_no_dp.png\")\n"
   ]
  },
  {
   "cell_type": "code",
   "execution_count": 121,
   "id": "ed786fa7",
   "metadata": {},
   "outputs": [],
   "source": [
    "# read\n",
    "dp_federated_df = pd.read_csv(\n",
    "    federated_path + \"5_clients_dp.csv\").drop(columns=[\"Unnamed: 0\"])\n",
    "print(dp_federated_df)\n",
    "\n",
    "# insert communication round as first column\n",
    "dp_federated_df.insert(0, \"Round\", value=range(0, len(dp_federated_df)))\n",
    "dp_federated_df.set_index(\"Round\", inplace=True)\n",
    "print(dp_federated_df)\n",
    "\n",
    "# melt \n",
    "dp_federated_df_melt = pd.melt(dp_federated_df, ignore_index=False).reset_index()\n",
    "dp_federated_df_melt.columns = [\"Round\", \"Metric\", \"Score\"]\n",
    "print(dp_federated_df_melt)\n"
   ]
  },
  {
   "cell_type": "code",
   "execution_count": 130,
   "id": "81fbde7e",
   "metadata": {},
   "outputs": [],
   "source": [
    "# plot\n",
    "\n",
    "plt.figure(figsize=figsize)\n",
    "ax = sns.barplot(x=\"Round\", y=\"Score\", hue=\"Metric\", data=dp_federated_df_melt)\n",
    "add_value_labels(ax)\n",
    "plt.xlabel(\"Communication Round\")\n",
    "plt.title(\"Federated - DP Improvement Over Communication Rounds\")\n",
    "plt.tight_layout()\n",
    "plt.savefig(plots_path + \"fl_dp.png\")\n"
   ]
  },
  {
   "cell_type": "code",
   "execution_count": 123,
   "id": "c0eab263",
   "metadata": {},
   "outputs": [],
   "source": [
    "# compare between fl no dp and dp\n",
    "print(no_dp_federated_df.iloc[-1, :])\n",
    "\n",
    "fl_dp_vs_no_dp_df = pd.DataFrame(\n",
    "    {\"No DP\": no_dp_federated_df.iloc[-1,:],\n",
    "     \"DP\": dp_federated_df.iloc[-1,:]}\n",
    "    ).T\n",
    "print(fl_dp_vs_no_dp_df)\n",
    "\n",
    "# MELT\n",
    "fl_dp_vs_no_dp_df_melt = pd.melt(fl_dp_vs_no_dp_df, ignore_index=False).reset_index()\n",
    "fl_dp_vs_no_dp_df_melt.columns = [\"DP\", \"Metric\", \"Score\"]\n",
    "print(fl_dp_vs_no_dp_df_melt)\n"
   ]
  },
  {
   "cell_type": "code",
   "execution_count": 124,
   "id": "ce4e4164",
   "metadata": {},
   "outputs": [],
   "source": [
    "plt.figure(figsize=figsize)\n",
    "ax = sns.barplot(x=\"DP\", y=\"Score\", hue=\"Metric\",\n",
    "                 data=fl_dp_vs_no_dp_df_melt)\n",
    "add_value_labels(ax)\n",
    "plt.title(\"Federated -  No DP vs DP Metrics\")\n",
    "plt.tight_layout()\n",
    "plt.savefig(plots_path + \"fl_no_dp_vs_dp.png\")\n"
   ]
  },
  {
   "cell_type": "markdown",
   "id": "42db4ba4",
   "metadata": {},
   "source": [
    "## Configuration Comparison\n"
   ]
  },
  {
   "cell_type": "code",
   "execution_count": 127,
   "id": "7a28ecd9",
   "metadata": {},
   "outputs": [],
   "source": [
    "# get centralised cnn (dp and no dp), fl (dp and no dp)\n",
    "\n",
    "model_performance_df = pd.DataFrame(\n",
    "    {\"Centralised Baseline CNN\": baseline_cnn_df.iloc[-1, :],\n",
    "     \"Centralised DP CNN\": noise_cnn_df.iloc[-1, :],\n",
    "     \"Federated Baseline\": no_dp_federated_df.iloc[-1, :],\n",
    "     \"Federated DP\": dp_federated_df.iloc[-1, :]\n",
    "     }\n",
    ").T\n",
    "\n",
    "print(model_performance_df)\n",
    "\n",
    "# melt\n",
    "model_performance_df_melt = pd.melt(model_performance_df, ignore_index=False).reset_index()\n",
    "model_performance_df_melt.columns = [\"Model\", \"Metric\", \"Score\"]\n",
    "print(model_performance_df_melt)\n"
   ]
  },
  {
   "cell_type": "code",
   "execution_count": 128,
   "id": "bfc00f2e",
   "metadata": {},
   "outputs": [],
   "source": [
    "# plot\n",
    "plt.figure(figsize=figsize)\n",
    "ax = sns.barplot(x=\"Model\", y=\"Score\", hue=\"Metric\", data=model_performance_df_melt)\n",
    "add_value_labels(ax)\n",
    "plt.xlabel(\"System Configuration\")\n",
    "plt.title(\"Metrics of Different System Configurations\")\n",
    "plt.tight_layout()\n",
    "plt.savefig(plots_path + \"model_performance.png\")\n"
   ]
  }
 ],
 "metadata": {
  "kernelspec": {
   "display_name": "venv",
   "language": "python",
   "name": "python3"
  },
  "language_info": {
   "codemirror_mode": {
    "name": "ipython",
    "version": 3
   },
   "file_extension": ".py",
   "mimetype": "text/x-python",
   "name": "python",
   "nbconvert_exporter": "python",
   "pygments_lexer": "ipython3",
   "version": "3.9.13"
  }
 },
 "nbformat": 4,
 "nbformat_minor": 5
}
