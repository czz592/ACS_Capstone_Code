{
 "cells": [
  {
   "cell_type": "markdown",
   "id": "f6db16f2",
   "metadata": {},
   "source": [
    "# Prototyping Notebook\n",
    "\n",
    "This notebook aims to begin prototyping the IDS, implementing the DNN models, FL server and client logic, and incorporate PETs and XAI components."
   ]
  },
  {
   "cell_type": "markdown",
   "id": "07cf1a23",
   "metadata": {},
   "source": [
    "## Phase 1 - Centralised DL\n"
   ]
  },
  {
   "cell_type": "markdown",
   "id": "0456aebb",
   "metadata": {},
   "source": [
    "### Setup\n"
   ]
  },
  {
   "cell_type": "code",
   "execution_count": null,
   "id": "1ae2616d",
   "metadata": {},
   "outputs": [
    {
     "name": "stderr",
     "output_type": "stream",
     "text": [
      "c:\\Users\\Leo\\ACS_Capstone\\Code\\venv\\lib\\site-packages\\tqdm\\auto.py:21: TqdmWarning: IProgress not found. Please update jupyter and ipywidgets. See https://ipywidgets.readthedocs.io/en/stable/user_install.html\n",
      "  from .autonotebook import tqdm as notebook_tqdm\n",
      "2025-07-02 21:13:43,876\tINFO util.py:154 -- Missing packages: ['ipywidgets']. Run `pip install -U ipywidgets`, then restart the notebook server for rich notebook output.\n"
     ]
    }
   ],
   "source": [
    "# general\n",
    "import os\n",
    "import seaborn as sns\n",
    "import matplotlib.pyplot as plt\n",
    "import numpy as np\n",
    "import pandas as pd\n",
    "\n",
    "# DL\n",
    "import torch\n",
    "import torch.nn as nn\n",
    "import torch.nn.functional as F\n",
    "from torch.utils.data import DataLoader\n",
    "\n",
    "\"\"\"\n",
    "# FL\n",
    "import flwr\n",
    "from flwr.client import Client, ClientApp, NumPyClient\n",
    "from flwr.common import Metrics, Context\n",
    "from flwr.server import ServerApp, ServerConfig, ServerAppComponents\n",
    "from flwr.server.strategy import FedAvg\n",
    "from flwr.simulation import run_simulation\n",
    "\n",
    "# PETs\n",
    "from opacus import PrivacyEngine\n",
    "\n",
    "# XAI\n",
    "import shap\n",
    "import captum\n",
    "\n",
    "NUM_CLIENTS = 10\n",
    "BATCH_SIZE = 32\n",
    "\"\"\"\n",
    "\n",
    "device = torch.device('cuda' if torch.cuda.is_available() else 'cpu')\n"
   ]
  },
  {
   "cell_type": "markdown",
   "id": "1b975f7a",
   "metadata": {},
   "source": [
    "### Data\n"
   ]
  },
  {
   "cell_type": "code",
   "execution_count": 2,
   "id": "bb7641a8",
   "metadata": {},
   "outputs": [
    {
     "name": "stdout",
     "output_type": "stream",
     "text": [
      "(2219201, 63)\n",
      "frame.time             object\n",
      "ip.src_host            object\n",
      "ip.dst_host            object\n",
      "arp.dst.proto_ipv4     object\n",
      "arp.opcode            float64\n",
      "                       ...   \n",
      "mbtcp.len             float64\n",
      "mbtcp.trans_id        float64\n",
      "mbtcp.unit_id         float64\n",
      "Attack_label            int64\n",
      "Attack_type            object\n",
      "Length: 63, dtype: object\n",
      "Attack_type\n",
      "Normal                   1615643\n",
      "DDoS_UDP                  121568\n",
      "DDoS_ICMP                 116436\n",
      "SQL_injection              51203\n",
      "Password                   50153\n",
      "Vulnerability_scanner      50110\n",
      "DDoS_TCP                   50062\n",
      "DDoS_HTTP                  49911\n",
      "Uploading                  37634\n",
      "Backdoor                   24862\n",
      "Port_Scanning              22564\n",
      "XSS                        15915\n",
      "Ransomware                 10925\n",
      "MITM                        1214\n",
      "Fingerprinting              1001\n",
      "Name: count, dtype: int64\n"
     ]
    },
    {
     "data": {
      "image/png": "[encoded data removed]",
      "text/plain": [
       "<Figure size 640x480 with 1 Axes>"
      ]
     },
     "metadata": {},
     "output_type": "display_data"
    }
   ],
   "source": [
    "data_path = 'dataset/edge-iiotset/eval/DNN-EdgeIIoT-dataset.csv'\n",
    "\n",
    "df = pd.read_csv(data_path, encoding='utf-8', low_memory=False)\n",
    "\n",
    "print(df.shape)\n",
    "print(df.dtypes)\n",
    "\n",
    "print(df['Attack_type'].value_counts())\n",
    "\n",
    "# plot histogram with value counts\n",
    "sns.histplot(df['Attack_type'])\n",
    "plt.show()\n"
   ]
  },
  {
   "cell_type": "code",
   "execution_count": null,
   "id": "7f1428c1",
   "metadata": {},
   "outputs": [],
   "source": [
    "# remove columns that are not useful\n",
    "drop_columns = [\"frame.time\", \"ip.src_host\", \"ip.dst_host\", \"arp.src.proto_ipv4\", \"arp.dst.proto_ipv4\",\n",
    "                \"http.file_data\", \"http.request.full_uri\", \"icmp.transmit_timestamp\",\n",
    "                \"http.request.uri.query\", \"tcp.options\", \"tcp.payload\", \"tcp.srcport\",\n",
    "                \"tcp.dstport\", \"udp.port\", \"mqtt.msg\"]\n",
    "\n",
    "df = df.drop(drop_columns, axis=1)\n",
    "\n",
    "print(df.isna().any(axis=1).sum(), \"rows with at least one NaN to remove\")\n",
    "print(df.isna().sum().sort_values(ascending=False))\n",
    "df = df.dropna(axis=0, how='any')\n"
   ]
  },
  {
   "cell_type": "code",
   "execution_count": 5,
   "id": "2323cf9d",
   "metadata": {},
   "outputs": [
    {
     "name": "stdout",
     "output_type": "stream",
     "text": [
      "309530 fully duplicate rows to remove\n",
      "(2219201, 48)\n",
      "(1909671, 48)\n"
     ]
    }
   ],
   "source": [
    "print(df.duplicated().sum(), \"fully duplicate rows to remove\")\n",
    "print(df.shape)\n",
    "df.drop_duplicates(subset=None, keep=\"first\", inplace=True)\n",
    "print(df.shape)\n"
   ]
  },
  {
   "cell_type": "code",
   "execution_count": null,
   "id": "b89352f5",
   "metadata": {},
   "outputs": [
    {
     "name": "stdout",
     "output_type": "stream",
     "text": [
      "arp.opcode: 100.00% zeros\n",
      "arp.hw.size: 100.00% zeros\n",
      "icmp.checksum: 96.41% zeros\n",
      "icmp.seq_le: 95.83% zeros\n",
      "icmp.unused: 100.00% zeros\n",
      "http.content_length: 97.68% zeros\n",
      "http.response: 98.29% zeros\n",
      "http.tls_port: 100.00% zeros\n",
      "tcp.connection.fin: 89.91% zeros\n",
      "tcp.connection.rst: 95.37% zeros\n",
      "tcp.connection.syn: 93.85% zeros\n",
      "tcp.connection.synack: 94.93% zeros\n",
      "tcp.len: 65.83% zeros\n",
      "udp.stream: 93.52% zeros\n",
      "udp.time_delta: 99.87% zeros\n",
      "dns.qry.name: 99.29% zeros\n",
      "dns.qry.qu: 99.89% zeros\n",
      "dns.qry.type: 100.00% zeros\n",
      "dns.retransmission: 99.90% zeros\n",
      "dns.retransmit_request: 100.00% zeros\n",
      "dns.retransmit_request_in: 100.00% zeros\n",
      "mqtt.conflag.cleansess: 95.65% zeros\n",
      "mqtt.conflags: 95.65% zeros\n",
      "mqtt.hdrflags: 82.61% zeros\n",
      "mqtt.len: 86.96% zeros\n",
      "mqtt.msg_decoded_as: 100.00% zeros\n",
      "mqtt.msgtype: 82.61% zeros\n",
      "mqtt.proto_len: 95.65% zeros\n",
      "mqtt.topic_len: 95.65% zeros\n",
      "mqtt.ver: 95.65% zeros\n",
      "mbtcp.len: 99.99% zeros\n",
      "mbtcp.trans_id: 99.99% zeros\n",
      "mbtcp.unit_id: 99.99% zeros\n",
      "Attack_label: 71.43% zeros\n",
      "number of dropped columns:  34\n",
      "New DF Shape:  (1909671, 14)\n"
     ]
    }
   ],
   "source": [
    "# remove columns with high 0 values\n",
    "zero_percent_columns = []\n",
    "\n",
    "for col in df.columns:\n",
    "    try:\n",
    "        zero_ratio = (df[col] == 0).sum() / len(df)\n",
    "        if zero_ratio >= 0.50:\n",
    "            zero_percent_columns.append((col, zero_ratio))\n",
    "            df.drop(col, axis=1, inplace=True)\n",
    "    except:\n",
    "        # skip non-numeric or problematic columns\n",
    "        continue\n",
    "\n",
    "# Display the results\n",
    "for col, ratio in zero_percent_columns:\n",
    "    print(f\"{col}: {ratio:.2%} zeros\")\n",
    "\n",
    "print(\"number of dropped columns: \", len(zero_percent_columns))\n",
    "print(\"New DF Shape: \" , df.shape)\n"
   ]
  },
  {
   "cell_type": "markdown",
   "id": "f210a30c",
   "metadata": {},
   "source": [
    "### Model"
   ]
  },
  {
   "cell_type": "markdown",
   "id": "9e19ef62",
   "metadata": {},
   "source": [
    "#### DNN\n"
   ]
  },
  {
   "cell_type": "code",
   "execution_count": null,
   "id": "e4be2665",
   "metadata": {},
   "outputs": [],
   "source": [
    "class DNN(nn.Module):\n",
    "    def __init__(self, input_dim=63, hidden_dim=128, output_dim=2):\n",
    "        \"\"\"\n",
    "        Define model architecture here.\\n\n",
    "        \n",
    "        Version 1: 03/07\n",
    "        \"\"\"\n",
    "        super(DNN, self).__init__()\n",
    "        self.model = nn.Sequential(\n",
    "            nn.Linear(input_dim, hidden_dim),\n",
    "            nn.ReLU(),\n",
    "            nn.Dropout(p=0.15),\n",
    "            \n",
    "            nn.Linear(hidden_dim, hidden_dim),\n",
    "            nn.ReLU(),\n",
    "            nn.Dropout(p=0.15),\n",
    "            \n",
    "            nn.Linear(hidden_dim, output_dim)\n",
    "        )\n",
    "    \n",
    "    def forward(self, x):\n",
    "        return self.model(x)\n"
   ]
  },
  {
   "cell_type": "markdown",
   "id": "b9b2f3e0",
   "metadata": {},
   "source": [
    "#### CNN"
   ]
  },
  {
   "cell_type": "code",
   "execution_count": null,
   "id": "06048005",
   "metadata": {},
   "outputs": [],
   "source": [
    "class CNN(nn.Module):\n",
    "    def __init__(self, input_dim=63, hidden_dim=128, output_dim=2):\n",
    "        \"\"\"\n",
    "        Define model architecture here.\n",
    "        \n",
    "        Version 1: 03/07\n",
    "        \"\"\"\n",
    "        super(CNN, self).__init__()\n",
    "        self.model = nn.Sequential(\n",
    "            nn.Conv1d(input_dim, hidden_dim, kernel_size=3, padding=1),\n",
    "            nn.ReLU(),\n",
    "            nn.Dropout(p=0.15),\n",
    "            \n",
    "            nn.Conv1d(hidden_dim, hidden_dim, kernel_size=3, padding=1),\n",
    "            nn.ReLU(),\n",
    "            nn.Dropout(p=0.15),\n",
    "            \n",
    "            nn.Flatten(),\n",
    "            nn.Linear(hidden_dim, hidden_dim),\n",
    "            nn.ReLU(),\n",
    "            nn.Linear(hidden_dim, output_dim)\n",
    "        )\n",
    "\n",
    "    def forward(self, x):\n",
    "        return self.model(x)\n"
   ]
  }
 ],
 "metadata": {
  "kernelspec": {
   "display_name": "venv",
   "language": "python",
   "name": "python3"
  },
  "language_info": {
   "codemirror_mode": {
    "name": "ipython",
    "version": 3
   },
   "file_extension": ".py",
   "mimetype": "text/x-python",
   "name": "python",
   "nbconvert_exporter": "python",
   "pygments_lexer": "ipython3",
   "version": "3.9.13"
  }
 },
 "nbformat": 4,
 "nbformat_minor": 5
}
