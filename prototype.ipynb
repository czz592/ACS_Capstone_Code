{
 "cells": [
  {
   "cell_type": "markdown",
   "id": "f6db16f2",
   "metadata": {},
   "source": [
    "# Prototyping Notebook\n",
    "\n",
    "This notebook aims to begin prototyping the IDS, implementing the DNN models, FL server and client logic, and incorporate PETs and XAI components."
   ]
  },
  {
   "cell_type": "code",
   "execution_count": null,
   "id": "1ae2616d",
   "metadata": {},
   "outputs": [],
   "source": []
  }
 ],
 "metadata": {
  "kernelspec": {
   "display_name": "venv",
   "language": "python",
   "name": "python3"
  },
  "language_info": {
   "name": "python",
   "version": "3.9.13"
  }
 },
 "nbformat": 4,
 "nbformat_minor": 5
}
